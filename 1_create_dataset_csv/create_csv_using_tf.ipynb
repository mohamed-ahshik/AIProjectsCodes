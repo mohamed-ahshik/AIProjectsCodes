{
 "cells": [
  {
   "cell_type": "markdown",
   "metadata": {},
   "source": [
    "# Script to create computer vision dataset csv. Can be used for training , evaluation and test."
   ]
  },
  {
   "cell_type": "markdown",
   "metadata": {},
   "source": [
    "### Import libraries "
   ]
  },
  {
   "cell_type": "code",
   "execution_count": null,
   "metadata": {},
   "outputs": [],
   "source": [
    "import tensorflow as tf\n",
    "import numpy as np\n",
    "import matplotlib.pyplot as plt\n",
    "%matplotlib inline"
   ]
  },
  {
   "cell_type": "markdown",
   "metadata": {},
   "source": [
    "### Define functions\n",
    "##### read_and_decode function helps to read the image. The output will be tensor from 0 to 255. However, machine learning and neural network performs better when the values are from 0 to 1. This will scale the values from 0 to 255 to 0 to 1. As well as resize all the images to desried height and width.\n",
    "\n",
    "##### show_image function will use the read_and_decode function to scale and resize . The output will be a tensor. This function will change the tensor into numpy array and plot the image using matplotlib."
   ]
  },
  {
   "cell_type": "code",
   "execution_count": null,
   "metadata": {},
   "outputs": [],
   "source": [
    "#Example: read_and_decode(filepath, [height, width])\n",
    "def read_and_decode(filename, reshape_dim):\n",
    "    # 1 read the file\n",
    "    img = tf.io.read_file(filename)\n",
    "    # 2 convert the compressed string to a 3d uint8 tensor\n",
    "    img = tf.io.decode_jpeg(img)\n",
    "    # print(img)\n",
    "    # 3 convert 3d uint8 to floats in the [0,1] range\n",
    "    img = tf.image.convert_image_dtype(img, tf.float32)\n",
    "    # print(img)\n",
    "    # 4 resize the image into desired size \n",
    "    return tf.image.resize(img, reshape_dim)\n",
    "#Example: show_image(filepath) \n",
    "def show_image(filename, reshape_dim):\n",
    "    #img will be a a tensor \n",
    "    img = read_and_decode(filename, reshape_dim)\n",
    "    #change img into numpy\n",
    "    print(img)\n",
    "    #show the picture\n",
    "    plt.imshow(img.numpy())\n",
    "    "
   ]
  },
  {
   "cell_type": "code",
   "execution_count": null,
   "metadata": {},
   "outputs": [],
   "source": [
    "IMG_HEIGHT = 256 # desired height and width \n",
    "IMG_WIDTH =  256 \n",
    "RGB_CHANNEL = 3 # RGB channel \n",
    "reshape_dim = [IMG_HEIGHT, IMG_WIDTH]\n",
    "\n",
    "path = r'PATH_TO_A_IMAGE'\n",
    "show_image(path, reshape_dim)\n",
    "result = read_and_decode(path, reshape_dim) #tensor \n",
    "result = np.array(result) # change to numpy\n",
    "result_flatten = result.flatten() # flatten into 1d\n",
    "result_flatten.shape#(256 * 256 * 3)"
   ]
  },
  {
   "cell_type": "markdown",
   "metadata": {},
   "source": [
    "##### Here *tf.io.gfile.glob* saves all the images path into this variables calles dataset.\n",
    "##### The loop goes through all the path in the dataset. label_sensor extracts the label name.\n",
    "##### since the extracted value is in tensor , change to numpy . From numpy, decode using \"utf-8\". This will return the label in string format. \n"
   ]
  },
  {
   "cell_type": "code",
   "execution_count": null,
   "metadata": {},
   "outputs": [],
   "source": [
    "import csv\n",
    "\n",
    "#training set path \n",
    "dataset_path = r'PATH_TO_IMAGE_SET_IMAGES'\n",
    "# dataset_path example = r'C:\\Users\\gabriel\\Documents\\dataset\\training_set\\*\\*.jpg'\n",
    "dataset = tf.io.gfile.glob(dataset_path)\n",
    "# print(dataset)\n",
    "\n",
    "with open(r'PATH_TO_SAVE_CSV\\training_set.csv','w', newline = '') as f:\n",
    "    \n",
    "    writer = csv.writer(f, delimiter=',' )\n",
    "    #First row header will be path and label \n",
    "    writer.writerow(['path', 'label'])\n",
    "    for filename in dataset:\n",
    "   \n",
    "        basename = tf.strings.regex_replace(filename, r\"PATH_TO_TRAINING_SET_FOLDER\", \"\")\n",
    "        #basename example =tf.strings.regex_replace(filename, r\"C:\\Users\\gabriel\\Documents\\dataset\\training_set\", \"\")\n",
    "        print(basename)\n",
    "        label_tensor= tf.strings.split(basename, '\\\\')[9] \n",
    "        #label_tensor ##uncomment to determine which index is the label\n",
    "        label_bytes = label_tensor.numpy()\n",
    "        string = label_bytes.decode('utf-8')\n",
    "        print(label_tensor)\n",
    "        writer.writerow([filename, string])\n",
    "                \n",
    "f.close()\n",
    "       \n",
    "\n",
    "    \n",
    "    "
   ]
  },
  {
   "cell_type": "code",
   "execution_count": null,
   "metadata": {},
   "outputs": [],
   "source": []
  },
  {
   "cell_type": "code",
   "execution_count": null,
   "metadata": {},
   "outputs": [],
   "source": []
  }
 ],
 "metadata": {
  "kernelspec": {
   "display_name": "4_ObjectDetection",
   "language": "python",
   "name": "python3"
  },
  "language_info": {
   "codemirror_mode": {
    "name": "ipython",
    "version": 3
   },
   "file_extension": ".py",
   "mimetype": "text/x-python",
   "name": "python",
   "nbconvert_exporter": "python",
   "pygments_lexer": "ipython3",
   "version": "3.11.5"
  }
 },
 "nbformat": 4,
 "nbformat_minor": 2
}
